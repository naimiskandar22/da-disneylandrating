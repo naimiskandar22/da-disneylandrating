{
    "cells": [
        {
            "cell_type": "markdown",
            "source": [
                "## Import Packages"
            ],
            "metadata": {}
        },
        {
            "cell_type": "code",
            "execution_count": 135,
            "source": [
                "import pandas as pd \r\n",
                "import numpy as np\r\n",
                "import matplotlib.pyplot as plt\r\n",
                "import seaborn as sns"
            ],
            "outputs": [],
            "metadata": {}
        },
        {
            "cell_type": "code",
            "execution_count": 136,
            "source": [
                "df = pd.read_csv('data/DisneylandReviews.csv', encoding='ISO-8859-1')\r\n",
                "df.head()"
            ],
            "outputs": [
                {
                    "output_type": "execute_result",
                    "data": {
                        "text/plain": [
                            "   Review_ID  Rating Year_Month     Reviewer_Location  \\\n",
                            "0  670772142       4     2019-4             Australia   \n",
                            "1  670682799       4     2019-5           Philippines   \n",
                            "2  670623270       4     2019-4  United Arab Emirates   \n",
                            "3  670607911       4     2019-4             Australia   \n",
                            "4  670607296       4     2019-4        United Kingdom   \n",
                            "\n",
                            "                                         Review_Text               Branch  \n",
                            "0  If you've ever been to Disneyland anywhere you...  Disneyland_HongKong  \n",
                            "1  Its been a while since d last time we visit HK...  Disneyland_HongKong  \n",
                            "2  Thanks God it wasn   t too hot or too humid wh...  Disneyland_HongKong  \n",
                            "3  HK Disneyland is a great compact park. Unfortu...  Disneyland_HongKong  \n",
                            "4  the location is not in the city, took around 1...  Disneyland_HongKong  "
                        ],
                        "text/html": [
                            "<div>\n",
                            "<style scoped>\n",
                            "    .dataframe tbody tr th:only-of-type {\n",
                            "        vertical-align: middle;\n",
                            "    }\n",
                            "\n",
                            "    .dataframe tbody tr th {\n",
                            "        vertical-align: top;\n",
                            "    }\n",
                            "\n",
                            "    .dataframe thead th {\n",
                            "        text-align: right;\n",
                            "    }\n",
                            "</style>\n",
                            "<table border=\"1\" class=\"dataframe\">\n",
                            "  <thead>\n",
                            "    <tr style=\"text-align: right;\">\n",
                            "      <th></th>\n",
                            "      <th>Review_ID</th>\n",
                            "      <th>Rating</th>\n",
                            "      <th>Year_Month</th>\n",
                            "      <th>Reviewer_Location</th>\n",
                            "      <th>Review_Text</th>\n",
                            "      <th>Branch</th>\n",
                            "    </tr>\n",
                            "  </thead>\n",
                            "  <tbody>\n",
                            "    <tr>\n",
                            "      <th>0</th>\n",
                            "      <td>670772142</td>\n",
                            "      <td>4</td>\n",
                            "      <td>2019-4</td>\n",
                            "      <td>Australia</td>\n",
                            "      <td>If you've ever been to Disneyland anywhere you...</td>\n",
                            "      <td>Disneyland_HongKong</td>\n",
                            "    </tr>\n",
                            "    <tr>\n",
                            "      <th>1</th>\n",
                            "      <td>670682799</td>\n",
                            "      <td>4</td>\n",
                            "      <td>2019-5</td>\n",
                            "      <td>Philippines</td>\n",
                            "      <td>Its been a while since d last time we visit HK...</td>\n",
                            "      <td>Disneyland_HongKong</td>\n",
                            "    </tr>\n",
                            "    <tr>\n",
                            "      <th>2</th>\n",
                            "      <td>670623270</td>\n",
                            "      <td>4</td>\n",
                            "      <td>2019-4</td>\n",
                            "      <td>United Arab Emirates</td>\n",
                            "      <td>Thanks God it wasn   t too hot or too humid wh...</td>\n",
                            "      <td>Disneyland_HongKong</td>\n",
                            "    </tr>\n",
                            "    <tr>\n",
                            "      <th>3</th>\n",
                            "      <td>670607911</td>\n",
                            "      <td>4</td>\n",
                            "      <td>2019-4</td>\n",
                            "      <td>Australia</td>\n",
                            "      <td>HK Disneyland is a great compact park. Unfortu...</td>\n",
                            "      <td>Disneyland_HongKong</td>\n",
                            "    </tr>\n",
                            "    <tr>\n",
                            "      <th>4</th>\n",
                            "      <td>670607296</td>\n",
                            "      <td>4</td>\n",
                            "      <td>2019-4</td>\n",
                            "      <td>United Kingdom</td>\n",
                            "      <td>the location is not in the city, took around 1...</td>\n",
                            "      <td>Disneyland_HongKong</td>\n",
                            "    </tr>\n",
                            "  </tbody>\n",
                            "</table>\n",
                            "</div>"
                        ]
                    },
                    "metadata": {},
                    "execution_count": 136
                }
            ],
            "metadata": {}
        },
        {
            "cell_type": "markdown",
            "source": [
                "## Data Cleaning"
            ],
            "metadata": {}
        },
        {
            "cell_type": "code",
            "execution_count": 137,
            "source": [
                "df.shape"
            ],
            "outputs": [
                {
                    "output_type": "execute_result",
                    "data": {
                        "text/plain": [
                            "(42656, 6)"
                        ]
                    },
                    "metadata": {},
                    "execution_count": 137
                }
            ],
            "metadata": {}
        },
        {
            "cell_type": "code",
            "execution_count": 138,
            "source": [
                "df.columns"
            ],
            "outputs": [
                {
                    "output_type": "execute_result",
                    "data": {
                        "text/plain": [
                            "Index(['Review_ID', 'Rating', 'Year_Month', 'Reviewer_Location', 'Review_Text',\n",
                            "       'Branch'],\n",
                            "      dtype='object')"
                        ]
                    },
                    "metadata": {},
                    "execution_count": 138
                }
            ],
            "metadata": {}
        },
        {
            "cell_type": "code",
            "execution_count": 139,
            "source": [
                "df.info()"
            ],
            "outputs": [
                {
                    "output_type": "stream",
                    "name": "stdout",
                    "text": [
                        "<class 'pandas.core.frame.DataFrame'>\n",
                        "RangeIndex: 42656 entries, 0 to 42655\n",
                        "Data columns (total 6 columns):\n",
                        " #   Column             Non-Null Count  Dtype \n",
                        "---  ------             --------------  ----- \n",
                        " 0   Review_ID          42656 non-null  int64 \n",
                        " 1   Rating             42656 non-null  int64 \n",
                        " 2   Year_Month         42656 non-null  object\n",
                        " 3   Reviewer_Location  42656 non-null  object\n",
                        " 4   Review_Text        42656 non-null  object\n",
                        " 5   Branch             42656 non-null  object\n",
                        "dtypes: int64(2), object(4)\n",
                        "memory usage: 2.0+ MB\n"
                    ]
                }
            ],
            "metadata": {}
        },
        {
            "cell_type": "code",
            "execution_count": 140,
            "source": [
                "df.describe()"
            ],
            "outputs": [
                {
                    "output_type": "execute_result",
                    "data": {
                        "text/plain": [
                            "          Review_ID        Rating\n",
                            "count  4.265600e+04  42656.000000\n",
                            "mean   3.188553e+08      4.217695\n",
                            "std    1.657092e+08      1.063371\n",
                            "min    1.398724e+06      1.000000\n",
                            "25%    1.743274e+08      4.000000\n",
                            "50%    2.907583e+08      5.000000\n",
                            "75%    4.489579e+08      5.000000\n",
                            "max    6.708014e+08      5.000000"
                        ],
                        "text/html": [
                            "<div>\n",
                            "<style scoped>\n",
                            "    .dataframe tbody tr th:only-of-type {\n",
                            "        vertical-align: middle;\n",
                            "    }\n",
                            "\n",
                            "    .dataframe tbody tr th {\n",
                            "        vertical-align: top;\n",
                            "    }\n",
                            "\n",
                            "    .dataframe thead th {\n",
                            "        text-align: right;\n",
                            "    }\n",
                            "</style>\n",
                            "<table border=\"1\" class=\"dataframe\">\n",
                            "  <thead>\n",
                            "    <tr style=\"text-align: right;\">\n",
                            "      <th></th>\n",
                            "      <th>Review_ID</th>\n",
                            "      <th>Rating</th>\n",
                            "    </tr>\n",
                            "  </thead>\n",
                            "  <tbody>\n",
                            "    <tr>\n",
                            "      <th>count</th>\n",
                            "      <td>4.265600e+04</td>\n",
                            "      <td>42656.000000</td>\n",
                            "    </tr>\n",
                            "    <tr>\n",
                            "      <th>mean</th>\n",
                            "      <td>3.188553e+08</td>\n",
                            "      <td>4.217695</td>\n",
                            "    </tr>\n",
                            "    <tr>\n",
                            "      <th>std</th>\n",
                            "      <td>1.657092e+08</td>\n",
                            "      <td>1.063371</td>\n",
                            "    </tr>\n",
                            "    <tr>\n",
                            "      <th>min</th>\n",
                            "      <td>1.398724e+06</td>\n",
                            "      <td>1.000000</td>\n",
                            "    </tr>\n",
                            "    <tr>\n",
                            "      <th>25%</th>\n",
                            "      <td>1.743274e+08</td>\n",
                            "      <td>4.000000</td>\n",
                            "    </tr>\n",
                            "    <tr>\n",
                            "      <th>50%</th>\n",
                            "      <td>2.907583e+08</td>\n",
                            "      <td>5.000000</td>\n",
                            "    </tr>\n",
                            "    <tr>\n",
                            "      <th>75%</th>\n",
                            "      <td>4.489579e+08</td>\n",
                            "      <td>5.000000</td>\n",
                            "    </tr>\n",
                            "    <tr>\n",
                            "      <th>max</th>\n",
                            "      <td>6.708014e+08</td>\n",
                            "      <td>5.000000</td>\n",
                            "    </tr>\n",
                            "  </tbody>\n",
                            "</table>\n",
                            "</div>"
                        ]
                    },
                    "metadata": {},
                    "execution_count": 140
                }
            ],
            "metadata": {}
        },
        {
            "cell_type": "code",
            "execution_count": 141,
            "source": [
                "# Count all NaN in each column\r\n",
                "#Your Code Here\r\n",
                "\r\n",
                "for column in df.columns:\r\n",
                "    print(f'{column}: {len(df[df[column].isna()].loc[:, column])}')"
            ],
            "outputs": [
                {
                    "output_type": "stream",
                    "name": "stdout",
                    "text": [
                        "Review_ID: 0\n",
                        "Rating: 0\n",
                        "Year_Month: 0\n",
                        "Reviewer_Location: 0\n",
                        "Review_Text: 0\n",
                        "Branch: 0\n"
                    ]
                }
            ],
            "metadata": {}
        },
        {
            "cell_type": "markdown",
            "source": [
                "### Find duplicate rows"
            ],
            "metadata": {}
        },
        {
            "cell_type": "code",
            "execution_count": 142,
            "source": [
                "#Find number of duplicate rows\r\n",
                "\r\n",
                "print(len(df[df.duplicated()]))"
            ],
            "outputs": [
                {
                    "output_type": "stream",
                    "name": "stdout",
                    "text": [
                        "12\n"
                    ]
                }
            ],
            "metadata": {}
        },
        {
            "cell_type": "code",
            "execution_count": 143,
            "source": [
                "#Remove duplicates\r\n",
                "\r\n",
                "df = df.drop_duplicates()"
            ],
            "outputs": [],
            "metadata": {}
        },
        {
            "cell_type": "markdown",
            "source": [
                "## Changing data types"
            ],
            "metadata": {}
        },
        {
            "cell_type": "markdown",
            "source": [
                "### Convert string to date"
            ],
            "metadata": {}
        },
        {
            "cell_type": "code",
            "execution_count": 144,
            "source": [
                "from datetime import datetime\r\n",
                "from datetime import date"
            ],
            "outputs": [],
            "metadata": {}
        },
        {
            "cell_type": "code",
            "execution_count": 145,
            "source": [
                "print(datetime.strptime(df.iloc[0]['Year_Month'], '%Y-%m'))"
            ],
            "outputs": [
                {
                    "output_type": "stream",
                    "name": "stdout",
                    "text": [
                        "2019-04-01 00:00:00\n"
                    ]
                }
            ],
            "metadata": {}
        },
        {
            "cell_type": "code",
            "execution_count": 146,
            "source": [
                "df[df['Year_Month'] == 'missing']['Branch'].unique()"
            ],
            "outputs": [
                {
                    "output_type": "execute_result",
                    "data": {
                        "text/plain": [
                            "array(['Disneyland_HongKong', 'Disneyland_California', 'Disneyland_Paris'],\n",
                            "      dtype=object)"
                        ]
                    },
                    "metadata": {},
                    "execution_count": 146
                }
            ],
            "metadata": {}
        },
        {
            "cell_type": "code",
            "execution_count": 147,
            "source": [
                "# Assign arbitrary date to rows with missing dates\r\n",
                "\r\n",
                "import random\r\n",
                "\r\n",
                "def SetDate(row):\r\n",
                "    while True:\r\n",
                "        try:\r\n",
                "            if row == 'missing':\r\n",
                "                rand_year = random.randint(2010, 2019)\r\n",
                "                rand_month = random.randint(1, 12)\r\n",
                "                row = str(rand_year) + '-' + str(rand_month)\r\n",
                "                #print('m ' +row)\r\n",
                "\r\n",
                "            break\r\n",
                "        except ValueError:\r\n",
                "            print(row)\r\n",
                "            break\r\n",
                "        \r\n",
                "\r\n",
                "    return datetime.strptime(row, '%Y-%m')"
            ],
            "outputs": [],
            "metadata": {}
        },
        {
            "cell_type": "code",
            "execution_count": 148,
            "source": [
                "# Change dates from string to datetime format\r\n",
                "\r\n",
                "df['Year_Month'] = [SetDate(df.iloc[x]['Year_Month']) for x in range(0,len(df))]"
            ],
            "outputs": [],
            "metadata": {}
        },
        {
            "cell_type": "code",
            "execution_count": 149,
            "source": [
                "# Check for rows with missing dates\r\n",
                "\r\n",
                "df[df['Year_Month'] == 'missing']"
            ],
            "outputs": [
                {
                    "output_type": "execute_result",
                    "data": {
                        "text/plain": [
                            "Empty DataFrame\n",
                            "Columns: [Review_ID, Rating, Year_Month, Reviewer_Location, Review_Text, Branch]\n",
                            "Index: []"
                        ],
                        "text/html": [
                            "<div>\n",
                            "<style scoped>\n",
                            "    .dataframe tbody tr th:only-of-type {\n",
                            "        vertical-align: middle;\n",
                            "    }\n",
                            "\n",
                            "    .dataframe tbody tr th {\n",
                            "        vertical-align: top;\n",
                            "    }\n",
                            "\n",
                            "    .dataframe thead th {\n",
                            "        text-align: right;\n",
                            "    }\n",
                            "</style>\n",
                            "<table border=\"1\" class=\"dataframe\">\n",
                            "  <thead>\n",
                            "    <tr style=\"text-align: right;\">\n",
                            "      <th></th>\n",
                            "      <th>Review_ID</th>\n",
                            "      <th>Rating</th>\n",
                            "      <th>Year_Month</th>\n",
                            "      <th>Reviewer_Location</th>\n",
                            "      <th>Review_Text</th>\n",
                            "      <th>Branch</th>\n",
                            "    </tr>\n",
                            "  </thead>\n",
                            "  <tbody>\n",
                            "  </tbody>\n",
                            "</table>\n",
                            "</div>"
                        ]
                    },
                    "metadata": {},
                    "execution_count": 149
                }
            ],
            "metadata": {}
        },
        {
            "cell_type": "markdown",
            "source": [
                "### Disneyland branch"
            ],
            "metadata": {}
        },
        {
            "cell_type": "code",
            "execution_count": 150,
            "source": [
                "df['Branch'].unique()"
            ],
            "outputs": [
                {
                    "output_type": "execute_result",
                    "data": {
                        "text/plain": [
                            "array(['Disneyland_HongKong', 'Disneyland_California', 'Disneyland_Paris'],\n",
                            "      dtype=object)"
                        ]
                    },
                    "metadata": {},
                    "execution_count": 150
                }
            ],
            "metadata": {}
        },
        {
            "cell_type": "code",
            "execution_count": 151,
            "source": [
                "# Remove Disneyland_ from 'Branch' column\r\n",
                "\r\n",
                "df['Branch'] = df['Branch'].str.replace('Disneyland_', '')\r\n",
                "df['Branch']"
            ],
            "outputs": [
                {
                    "output_type": "execute_result",
                    "data": {
                        "text/plain": [
                            "0        HongKong\n",
                            "1        HongKong\n",
                            "2        HongKong\n",
                            "3        HongKong\n",
                            "4        HongKong\n",
                            "           ...   \n",
                            "42651       Paris\n",
                            "42652       Paris\n",
                            "42653       Paris\n",
                            "42654       Paris\n",
                            "42655       Paris\n",
                            "Name: Branch, Length: 42644, dtype: object"
                        ]
                    },
                    "metadata": {},
                    "execution_count": 151
                }
            ],
            "metadata": {}
        },
        {
            "cell_type": "code",
            "execution_count": 152,
            "source": [
                "df['Branch'].unique()"
            ],
            "outputs": [
                {
                    "output_type": "execute_result",
                    "data": {
                        "text/plain": [
                            "array(['HongKong', 'California', 'Paris'], dtype=object)"
                        ]
                    },
                    "metadata": {},
                    "execution_count": 152
                }
            ],
            "metadata": {}
        },
        {
            "cell_type": "code",
            "execution_count": null,
            "source": [],
            "outputs": [],
            "metadata": {}
        },
        {
            "cell_type": "markdown",
            "source": [
                "### **Review dataframe data types**"
            ],
            "metadata": {}
        },
        {
            "cell_type": "code",
            "execution_count": 153,
            "source": [
                "df.info()"
            ],
            "outputs": [
                {
                    "output_type": "stream",
                    "name": "stdout",
                    "text": [
                        "<class 'pandas.core.frame.DataFrame'>\n",
                        "Int64Index: 42644 entries, 0 to 42655\n",
                        "Data columns (total 6 columns):\n",
                        " #   Column             Non-Null Count  Dtype         \n",
                        "---  ------             --------------  -----         \n",
                        " 0   Review_ID          42644 non-null  int64         \n",
                        " 1   Rating             42644 non-null  int64         \n",
                        " 2   Year_Month         42644 non-null  datetime64[ns]\n",
                        " 3   Reviewer_Location  42644 non-null  object        \n",
                        " 4   Review_Text        42644 non-null  object        \n",
                        " 5   Branch             42644 non-null  object        \n",
                        "dtypes: datetime64[ns](1), int64(2), object(3)\n",
                        "memory usage: 2.3+ MB\n"
                    ]
                }
            ],
            "metadata": {}
        },
        {
            "cell_type": "code",
            "execution_count": 154,
            "source": [
                "df.shape"
            ],
            "outputs": [
                {
                    "output_type": "execute_result",
                    "data": {
                        "text/plain": [
                            "(42644, 6)"
                        ]
                    },
                    "metadata": {},
                    "execution_count": 154
                }
            ],
            "metadata": {}
        },
        {
            "cell_type": "markdown",
            "source": [
                "# <font color=green>Feature Enginearing<font>\r\n",
                "    \r\n",
                "### We have too many Features? Do you think you can make some high level features? "
            ],
            "metadata": {}
        },
        {
            "cell_type": "code",
            "execution_count": 155,
            "source": [
                "# Add column 'Year'\r\n",
                "\r\n",
                "df['Year'] = df['Year_Month'].dt.year"
            ],
            "outputs": [],
            "metadata": {}
        },
        {
            "cell_type": "code",
            "execution_count": 156,
            "source": [
                "# Add column 'Month'\r\n",
                "\r\n",
                "df['Month'] = df['Year_Month'].dt.month "
            ],
            "outputs": [],
            "metadata": {}
        },
        {
            "cell_type": "code",
            "execution_count": 157,
            "source": [
                "from countryinfo import countries"
            ],
            "outputs": [],
            "metadata": {}
        },
        {
            "cell_type": "code",
            "execution_count": 158,
            "source": [
                "country_df = pd.DataFrame(countries)\r\n",
                "country_df"
            ],
            "outputs": [
                {
                    "output_type": "execute_result",
                    "data": {
                        "text/plain": [
                            "             timezones code      continent                  name  \\\n",
                            "0     [Europe/Andorra]   AD         Europe               Andorra   \n",
                            "1         [Asia/Kabul]   AF           Asia           Afghanistan   \n",
                            "2    [America/Antigua]   AG  North America   Antigua and Barbuda   \n",
                            "3      [Europe/Tirane]   AL         Europe               Albania   \n",
                            "4       [Asia/Yerevan]   AM           Asia               Armenia   \n",
                            "..                 ...  ...            ...                   ...   \n",
                            "188     [Asia/Colombo]   LK           Asia             Sri Lanka   \n",
                            "189   [Africa/Mbabane]   SZ         Africa             Swaziland   \n",
                            "190    [Europe/Zurich]   CH         Europe           Switzerland   \n",
                            "191       [Asia/Dubai]   AE           Asia  United Arab Emirates   \n",
                            "192    [Europe/London]   GB         Europe        United Kingdom   \n",
                            "\n",
                            "                       capital  \n",
                            "0             Andorra la Vella  \n",
                            "1                        Kabul  \n",
                            "2                   St. John's  \n",
                            "3                       Tirana  \n",
                            "4                      Yerevan  \n",
                            "..                         ...  \n",
                            "188  Sri Jayewardenepura Kotte  \n",
                            "189                    Mbabane  \n",
                            "190                       Bern  \n",
                            "191                  Abu Dhabi  \n",
                            "192                     London  \n",
                            "\n",
                            "[193 rows x 5 columns]"
                        ],
                        "text/html": [
                            "<div>\n",
                            "<style scoped>\n",
                            "    .dataframe tbody tr th:only-of-type {\n",
                            "        vertical-align: middle;\n",
                            "    }\n",
                            "\n",
                            "    .dataframe tbody tr th {\n",
                            "        vertical-align: top;\n",
                            "    }\n",
                            "\n",
                            "    .dataframe thead th {\n",
                            "        text-align: right;\n",
                            "    }\n",
                            "</style>\n",
                            "<table border=\"1\" class=\"dataframe\">\n",
                            "  <thead>\n",
                            "    <tr style=\"text-align: right;\">\n",
                            "      <th></th>\n",
                            "      <th>timezones</th>\n",
                            "      <th>code</th>\n",
                            "      <th>continent</th>\n",
                            "      <th>name</th>\n",
                            "      <th>capital</th>\n",
                            "    </tr>\n",
                            "  </thead>\n",
                            "  <tbody>\n",
                            "    <tr>\n",
                            "      <th>0</th>\n",
                            "      <td>[Europe/Andorra]</td>\n",
                            "      <td>AD</td>\n",
                            "      <td>Europe</td>\n",
                            "      <td>Andorra</td>\n",
                            "      <td>Andorra la Vella</td>\n",
                            "    </tr>\n",
                            "    <tr>\n",
                            "      <th>1</th>\n",
                            "      <td>[Asia/Kabul]</td>\n",
                            "      <td>AF</td>\n",
                            "      <td>Asia</td>\n",
                            "      <td>Afghanistan</td>\n",
                            "      <td>Kabul</td>\n",
                            "    </tr>\n",
                            "    <tr>\n",
                            "      <th>2</th>\n",
                            "      <td>[America/Antigua]</td>\n",
                            "      <td>AG</td>\n",
                            "      <td>North America</td>\n",
                            "      <td>Antigua and Barbuda</td>\n",
                            "      <td>St. John's</td>\n",
                            "    </tr>\n",
                            "    <tr>\n",
                            "      <th>3</th>\n",
                            "      <td>[Europe/Tirane]</td>\n",
                            "      <td>AL</td>\n",
                            "      <td>Europe</td>\n",
                            "      <td>Albania</td>\n",
                            "      <td>Tirana</td>\n",
                            "    </tr>\n",
                            "    <tr>\n",
                            "      <th>4</th>\n",
                            "      <td>[Asia/Yerevan]</td>\n",
                            "      <td>AM</td>\n",
                            "      <td>Asia</td>\n",
                            "      <td>Armenia</td>\n",
                            "      <td>Yerevan</td>\n",
                            "    </tr>\n",
                            "    <tr>\n",
                            "      <th>...</th>\n",
                            "      <td>...</td>\n",
                            "      <td>...</td>\n",
                            "      <td>...</td>\n",
                            "      <td>...</td>\n",
                            "      <td>...</td>\n",
                            "    </tr>\n",
                            "    <tr>\n",
                            "      <th>188</th>\n",
                            "      <td>[Asia/Colombo]</td>\n",
                            "      <td>LK</td>\n",
                            "      <td>Asia</td>\n",
                            "      <td>Sri Lanka</td>\n",
                            "      <td>Sri Jayewardenepura Kotte</td>\n",
                            "    </tr>\n",
                            "    <tr>\n",
                            "      <th>189</th>\n",
                            "      <td>[Africa/Mbabane]</td>\n",
                            "      <td>SZ</td>\n",
                            "      <td>Africa</td>\n",
                            "      <td>Swaziland</td>\n",
                            "      <td>Mbabane</td>\n",
                            "    </tr>\n",
                            "    <tr>\n",
                            "      <th>190</th>\n",
                            "      <td>[Europe/Zurich]</td>\n",
                            "      <td>CH</td>\n",
                            "      <td>Europe</td>\n",
                            "      <td>Switzerland</td>\n",
                            "      <td>Bern</td>\n",
                            "    </tr>\n",
                            "    <tr>\n",
                            "      <th>191</th>\n",
                            "      <td>[Asia/Dubai]</td>\n",
                            "      <td>AE</td>\n",
                            "      <td>Asia</td>\n",
                            "      <td>United Arab Emirates</td>\n",
                            "      <td>Abu Dhabi</td>\n",
                            "    </tr>\n",
                            "    <tr>\n",
                            "      <th>192</th>\n",
                            "      <td>[Europe/London]</td>\n",
                            "      <td>GB</td>\n",
                            "      <td>Europe</td>\n",
                            "      <td>United Kingdom</td>\n",
                            "      <td>London</td>\n",
                            "    </tr>\n",
                            "  </tbody>\n",
                            "</table>\n",
                            "<p>193 rows × 5 columns</p>\n",
                            "</div>"
                        ]
                    },
                    "metadata": {},
                    "execution_count": 158
                }
            ],
            "metadata": {}
        },
        {
            "cell_type": "code",
            "execution_count": 159,
            "source": [
                "country_df[country_df['name'] == 'China']"
            ],
            "outputs": [
                {
                    "output_type": "execute_result",
                    "data": {
                        "text/plain": [
                            "Empty DataFrame\n",
                            "Columns: [timezones, code, continent, name, capital]\n",
                            "Index: []"
                        ],
                        "text/html": [
                            "<div>\n",
                            "<style scoped>\n",
                            "    .dataframe tbody tr th:only-of-type {\n",
                            "        vertical-align: middle;\n",
                            "    }\n",
                            "\n",
                            "    .dataframe tbody tr th {\n",
                            "        vertical-align: top;\n",
                            "    }\n",
                            "\n",
                            "    .dataframe thead th {\n",
                            "        text-align: right;\n",
                            "    }\n",
                            "</style>\n",
                            "<table border=\"1\" class=\"dataframe\">\n",
                            "  <thead>\n",
                            "    <tr style=\"text-align: right;\">\n",
                            "      <th></th>\n",
                            "      <th>timezones</th>\n",
                            "      <th>code</th>\n",
                            "      <th>continent</th>\n",
                            "      <th>name</th>\n",
                            "      <th>capital</th>\n",
                            "    </tr>\n",
                            "  </thead>\n",
                            "  <tbody>\n",
                            "  </tbody>\n",
                            "</table>\n",
                            "</div>"
                        ]
                    },
                    "metadata": {},
                    "execution_count": 159
                }
            ],
            "metadata": {}
        },
        {
            "cell_type": "code",
            "execution_count": 160,
            "source": [
                "import pycountry_convert as pc\r\n",
                "\r\n",
                "def GetContinent(country):\r\n",
                "    country = country.split('(')[0]\r\n",
                "    if country[-1:] == ' ':\r\n",
                "        country = country[:-1]\r\n",
                "    #print(country)\r\n",
                "    try:\r\n",
                "        #country_code = pc.country_name_to_country_alpha2(country, cn_name_format='default')\r\n",
                "        #continent_name = pc.country_alpha2_to_continent_code(country_code)\r\n",
                "        continent_name = country_df[country_df['name'] == country]['continent']\r\n",
                "    except KeyError:\r\n",
                "        country_spl = country.split('(')\r\n",
                "        print(country_spl[0])\r\n",
                "        continent_name = country_df[country_df['name'] == country_spl[0]]['continent']\r\n",
                "    \r\n",
                "    if len(continent_name) == 0:\r\n",
                "        continent_name = GetContinent_Pycountry(country)\r\n",
                "        return continent_name\r\n",
                "    else:\r\n",
                "        return continent_name.values[0]"
            ],
            "outputs": [],
            "metadata": {}
        },
        {
            "cell_type": "code",
            "execution_count": 161,
            "source": [
                "def GetContinent_Pycountry(country):\r\n",
                "\r\n",
                "    try:\r\n",
                "        country_code = pc.country_name_to_country_alpha2(country, cn_name_format='default')\r\n",
                "        continent_name = pc.country_alpha2_to_continent_code(country_code)\r\n",
                "\r\n",
                "        if continent_name == 'AS':\r\n",
                "            continent_name = 'Asia'\r\n",
                "        if continent_name == 'EU':\r\n",
                "            continent_name = 'Europe'\r\n",
                "        if continent_name == 'NA':\r\n",
                "            continent_name = 'North America'\r\n",
                "        if continent_name == 'OC':\r\n",
                "            continent_name = 'Oceania'\r\n",
                "        if continent_name == 'SA':\r\n",
                "            continent_name = 'South America'\r\n",
                "        if continent_name == 'AF':\r\n",
                "            continent_name = 'Africa'\r\n",
                "    except KeyError:\r\n",
                "        return 'None'\r\n",
                "\r\n",
                "    return continent_name"
            ],
            "outputs": [],
            "metadata": {}
        },
        {
            "cell_type": "code",
            "execution_count": 162,
            "source": [
                "print(GetContinent('Myanmar (Burma)'))"
            ],
            "outputs": [
                {
                    "output_type": "stream",
                    "name": "stdout",
                    "text": [
                        "Asia\n"
                    ]
                }
            ],
            "metadata": {}
        },
        {
            "cell_type": "code",
            "execution_count": 163,
            "source": [
                "df['Continent'] = [GetContinent(df.iloc[x]['Reviewer_Location']) for x in range(0, len(df))]\r\n",
                "df['Continent']"
            ],
            "outputs": [
                {
                    "output_type": "execute_result",
                    "data": {
                        "text/plain": [
                            "0              Oceania\n",
                            "1                 Asia\n",
                            "2                 Asia\n",
                            "3              Oceania\n",
                            "4               Europe\n",
                            "             ...      \n",
                            "42651           Europe\n",
                            "42652    North America\n",
                            "42653           Africa\n",
                            "42654    North America\n",
                            "42655           Europe\n",
                            "Name: Continent, Length: 42644, dtype: object"
                        ]
                    },
                    "metadata": {},
                    "execution_count": 163
                }
            ],
            "metadata": {}
        },
        {
            "cell_type": "code",
            "execution_count": 164,
            "source": [
                "df['Continent'].unique()"
            ],
            "outputs": [
                {
                    "output_type": "execute_result",
                    "data": {
                        "text/plain": [
                            "array(['Oceania', 'Asia', 'Europe', 'North America', 'Africa',\n",
                            "       'South America', 'EU', 'None'], dtype=object)"
                        ]
                    },
                    "metadata": {},
                    "execution_count": 164
                }
            ],
            "metadata": {}
        },
        {
            "cell_type": "code",
            "execution_count": 165,
            "source": [
                "df[df['Continent'] == 'None'].iloc[:]['Reviewer_Location'].unique()"
            ],
            "outputs": [
                {
                    "output_type": "execute_result",
                    "data": {
                        "text/plain": [
                            "array(['The Bahamas', 'Timor-Leste', 'U.S. Virgin Islands',\n",
                            "       'Caribbean Netherlands'], dtype=object)"
                        ]
                    },
                    "metadata": {},
                    "execution_count": 165
                }
            ],
            "metadata": {}
        },
        {
            "cell_type": "markdown",
            "source": [
                "## Exploratory Data Analysis"
            ],
            "metadata": {}
        },
        {
            "cell_type": "markdown",
            "source": [
                "### Explore Relationship Between Categorical & Numerical Variable"
            ],
            "metadata": {}
        },
        {
            "cell_type": "code",
            "execution_count": 166,
            "source": [
                "sns.boxplot(x='Branch', y='Rating', data=df)"
            ],
            "outputs": [
                {
                    "output_type": "execute_result",
                    "data": {
                        "text/plain": [
                            "<matplotlib.axes._subplots.AxesSubplot at 0x140105cb708>"
                        ]
                    },
                    "metadata": {},
                    "execution_count": 166
                },
                {
                    "output_type": "display_data",
                    "data": {
                        "text/plain": [
                            "<Figure size 432x288 with 1 Axes>"
                        ],
                        "image/png": "[encoded data removed]"
                    },
                    "metadata": {
                        "needs_background": "light"
                    }
                }
            ],
            "metadata": {}
        },
        {
            "cell_type": "code",
            "execution_count": 168,
            "source": [
                "sns.boxplot(x='Year', y='Rating', data=df)"
            ],
            "outputs": [
                {
                    "output_type": "execute_result",
                    "data": {
                        "text/plain": [
                            "<matplotlib.axes._subplots.AxesSubplot at 0x140134ce4c8>"
                        ]
                    },
                    "metadata": {},
                    "execution_count": 168
                },
                {
                    "output_type": "display_data",
                    "data": {
                        "text/plain": [
                            "<Figure size 432x288 with 1 Axes>"
                        ],
                        "image/png": "[encoded data removed]"
                    },
                    "metadata": {
                        "needs_background": "light"
                    }
                }
            ],
            "metadata": {}
        },
        {
            "cell_type": "code",
            "execution_count": 169,
            "source": [
                "sns.boxplot(x='Month', y='Rating', data=df)"
            ],
            "outputs": [
                {
                    "output_type": "execute_result",
                    "data": {
                        "text/plain": [
                            "<matplotlib.axes._subplots.AxesSubplot at 0x1401424b508>"
                        ]
                    },
                    "metadata": {},
                    "execution_count": 169
                },
                {
                    "output_type": "display_data",
                    "data": {
                        "text/plain": [
                            "<Figure size 432x288 with 1 Axes>"
                        ],
                        "image/png": "[encoded data removed]"
                    },
                    "metadata": {
                        "needs_background": "light"
                    }
                }
            ],
            "metadata": {}
        },
        {
            "cell_type": "code",
            "execution_count": 182,
            "source": [
                "g = sns.FacetGrid(data=df, row='Branch')\r\n",
                "g.map(sns.boxplot, x='Month', y='Rating', data=df, palette='muted')\r\n",
                "#sns.boxplot(x='Continent', y='Rating', rows='Branch', data=df)\r\n",
                "#plt.figure(figsize=(12,8))"
            ],
            "outputs": [
                {
                    "output_type": "execute_result",
                    "data": {
                        "text/plain": [
                            "<seaborn.axisgrid.FacetGrid at 0x1401d0fbc48>"
                        ]
                    },
                    "metadata": {},
                    "execution_count": 182
                },
                {
                    "output_type": "display_data",
                    "data": {
                        "text/plain": [
                            "<Figure size 216x648 with 3 Axes>"
                        ],
                        "image/png": "[encoded data removed]"
                    },
                    "metadata": {
                        "needs_background": "light"
                    }
                }
            ],
            "metadata": {}
        },
        {
            "cell_type": "code",
            "execution_count": 198,
            "source": [
                "sns.distplot(df['Month'])"
            ],
            "outputs": [
                {
                    "output_type": "execute_result",
                    "data": {
                        "text/plain": [
                            "<matplotlib.axes._subplots.AxesSubplot at 0x1401fa23508>"
                        ]
                    },
                    "metadata": {},
                    "execution_count": 198
                },
                {
                    "output_type": "display_data",
                    "data": {
                        "text/plain": [
                            "<Figure size 432x288 with 1 Axes>"
                        ],
                        "image/png": "[encoded data removed]"
                    },
                    "metadata": {
                        "needs_background": "light"
                    }
                }
            ],
            "metadata": {}
        },
        {
            "cell_type": "markdown",
            "source": [
                "# <font color=green>Feature Selection<font>\r\n",
                "\r\n",
                "### Check the correlation among the variables"
            ],
            "metadata": {}
        },
        {
            "cell_type": "code",
            "execution_count": 199,
            "source": [
                "df.corr()"
            ],
            "outputs": [
                {
                    "output_type": "execute_result",
                    "data": {
                        "text/plain": [
                            "           Review_ID    Rating      Year     Month\n",
                            "Review_ID   1.000000  0.006325  0.864362 -0.002022\n",
                            "Rating      0.006325  1.000000 -0.018938  0.011741\n",
                            "Year        0.864362 -0.018938  1.000000 -0.137225\n",
                            "Month      -0.002022  0.011741 -0.137225  1.000000"
                        ],
                        "text/html": [
                            "<div>\n",
                            "<style scoped>\n",
                            "    .dataframe tbody tr th:only-of-type {\n",
                            "        vertical-align: middle;\n",
                            "    }\n",
                            "\n",
                            "    .dataframe tbody tr th {\n",
                            "        vertical-align: top;\n",
                            "    }\n",
                            "\n",
                            "    .dataframe thead th {\n",
                            "        text-align: right;\n",
                            "    }\n",
                            "</style>\n",
                            "<table border=\"1\" class=\"dataframe\">\n",
                            "  <thead>\n",
                            "    <tr style=\"text-align: right;\">\n",
                            "      <th></th>\n",
                            "      <th>Review_ID</th>\n",
                            "      <th>Rating</th>\n",
                            "      <th>Year</th>\n",
                            "      <th>Month</th>\n",
                            "    </tr>\n",
                            "  </thead>\n",
                            "  <tbody>\n",
                            "    <tr>\n",
                            "      <th>Review_ID</th>\n",
                            "      <td>1.000000</td>\n",
                            "      <td>0.006325</td>\n",
                            "      <td>0.864362</td>\n",
                            "      <td>-0.002022</td>\n",
                            "    </tr>\n",
                            "    <tr>\n",
                            "      <th>Rating</th>\n",
                            "      <td>0.006325</td>\n",
                            "      <td>1.000000</td>\n",
                            "      <td>-0.018938</td>\n",
                            "      <td>0.011741</td>\n",
                            "    </tr>\n",
                            "    <tr>\n",
                            "      <th>Year</th>\n",
                            "      <td>0.864362</td>\n",
                            "      <td>-0.018938</td>\n",
                            "      <td>1.000000</td>\n",
                            "      <td>-0.137225</td>\n",
                            "    </tr>\n",
                            "    <tr>\n",
                            "      <th>Month</th>\n",
                            "      <td>-0.002022</td>\n",
                            "      <td>0.011741</td>\n",
                            "      <td>-0.137225</td>\n",
                            "      <td>1.000000</td>\n",
                            "    </tr>\n",
                            "  </tbody>\n",
                            "</table>\n",
                            "</div>"
                        ]
                    },
                    "metadata": {},
                    "execution_count": 199
                }
            ],
            "metadata": {}
        },
        {
            "cell_type": "code",
            "execution_count": 200,
            "source": [
                "sns.heatmap(df.corr())"
            ],
            "outputs": [
                {
                    "output_type": "execute_result",
                    "data": {
                        "text/plain": [
                            "<matplotlib.axes._subplots.AxesSubplot at 0x1401cd6af08>"
                        ]
                    },
                    "metadata": {},
                    "execution_count": 200
                },
                {
                    "output_type": "display_data",
                    "data": {
                        "text/plain": [
                            "<Figure size 432x288 with 2 Axes>"
                        ],
                        "image/png": "[encoded data removed]"
                    },
                    "metadata": {
                        "needs_background": "light"
                    }
                }
            ],
            "metadata": {}
        },
        {
            "cell_type": "markdown",
            "source": [
                "# <font color=green>Saving To CSV<font>"
            ],
            "metadata": {}
        },
        {
            "cell_type": "code",
            "execution_count": 202,
            "source": [
                "df.to_csv('data/new_DisneylandReviews.csv')"
            ],
            "outputs": [],
            "metadata": {}
        }
    ],
    "metadata": {
        "orig_nbformat": 4,
        "language_info": {
            "name": "python",
            "version": "3.7.4",
            "mimetype": "text/x-python",
            "codemirror_mode": {
                "name": "ipython",
                "version": 3
            },
            "pygments_lexer": "ipython3",
            "nbconvert_exporter": "python",
            "file_extension": ".py"
        },
        "kernelspec": {
            "name": "python3",
            "display_name": "Python 3.7.4 64-bit ('base': conda)"
        },
        "interpreter": {
            "hash": "9387e9e37a0af8fff0fcbade4737076ebc87d0c8fec44545ee3d2fd05cdc73df"
        }
    },
    "nbformat": 4,
    "nbformat_minor": 2
}