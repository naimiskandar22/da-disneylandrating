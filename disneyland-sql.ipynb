{
    "cells": [
        {
            "cell_type": "code",
            "execution_count": 1,
            "source": [
                "import sqlite3\r\n",
                "import pandas as pd"
            ],
            "outputs": [],
            "metadata": {}
        },
        {
            "cell_type": "code",
            "execution_count": 2,
            "source": [
                "conn=sqlite3.connect('data.db')"
            ],
            "outputs": [],
            "metadata": {}
        },
        {
            "cell_type": "code",
            "execution_count": 4,
            "source": [
                "db = pd.read_csv('data/new_DisneylandReviews.csv')\r\n",
                "db.to_sql('DB', conn)"
            ],
            "outputs": [
                {
                    "output_type": "stream",
                    "name": "stderr",
                    "text": [
                        "D:\\Program Files\\Anaconda3\\lib\\site-packages\\pandas\\core\\generic.py:2879: UserWarning: The spaces in these column names will not be changed. In pandas versions < 0.14, spaces were converted to underscores.\n",
                        "  method=method,\n"
                    ]
                }
            ],
            "metadata": {}
        },
        {
            "cell_type": "code",
            "execution_count": 5,
            "source": [
                "res = conn.execute(\"SELECT name FROM sqlite_master WHERE type = 'table';\")\r\n",
                "\r\n",
                "for name in res:\r\n",
                "    print(name[0])"
            ],
            "outputs": [
                {
                    "output_type": "stream",
                    "name": "stdout",
                    "text": [
                        "DB\n"
                    ]
                }
            ],
            "metadata": {}
        },
        {
            "cell_type": "code",
            "execution_count": null,
            "source": [
                "#!pip install ipython-sql"
            ],
            "outputs": [],
            "metadata": {}
        },
        {
            "cell_type": "code",
            "execution_count": 10,
            "source": [
                "%load_ext sql"
            ],
            "outputs": [],
            "metadata": {}
        },
        {
            "cell_type": "code",
            "execution_count": 11,
            "source": [
                "%sql sqlite:///data.db"
            ],
            "outputs": [],
            "metadata": {}
        },
        {
            "cell_type": "markdown",
            "source": [
                "## Write queries to return outputs"
            ],
            "metadata": {}
        },
        {
            "cell_type": "markdown",
            "source": [
                "#### Get rows from table"
            ],
            "metadata": {}
        },
        {
            "cell_type": "code",
            "execution_count": 14,
            "source": [
                "%sql SELECT * FROM DB LIMIT 2;"
            ],
            "outputs": [
                {
                    "output_type": "stream",
                    "name": "stdout",
                    "text": [
                        " * sqlite:///data.db\n",
                        "Done.\n"
                    ]
                },
                {
                    "output_type": "execute_result",
                    "data": {
                        "text/plain": [
                            "[(0, 0, 670772142, 4, '2019-04-01', 'Australia', \"If you've ever been to Disneyland anywhere you'll find Disneyland Hong Kong very similar in the layout when you walk into main street! It has a very  ... (31 characters truncated) ...   its a Small World  is absolutely fabulous and worth doing. The day we visited was fairly hot and relatively busy but the queues moved fairly well. \", 'HongKong', 2019, 4, 'Oceania'),\n",
                            " (1, 1, 670682799, 4, '2019-05-01', 'Philippines', \"Its been a while since d last time we visit HK Disneyland .. Yet, this time we only stay in Tomorrowland .. AKA Marvel land!Now they have Iron Man Ex ... (672 characters truncated) ... Street now have more attractive delicacies n Disney theme sweets .. These are Good Points!!Last, they also have Starbucks now inside the theme park!!\", 'HongKong', 2019, 5, 'Asia')]"
                        ],
                        "text/html": [
                            "<table>\n",
                            "    <tr>\n",
                            "        <th>index</th>\n",
                            "        <th>Unnamed: 0</th>\n",
                            "        <th>Review_ID</th>\n",
                            "        <th>Rating</th>\n",
                            "        <th>Year_Month</th>\n",
                            "        <th>Reviewer_Location</th>\n",
                            "        <th>Review_Text</th>\n",
                            "        <th>Branch</th>\n",
                            "        <th>Year</th>\n",
                            "        <th>Month</th>\n",
                            "        <th>Continent</th>\n",
                            "    </tr>\n",
                            "    <tr>\n",
                            "        <td>0</td>\n",
                            "        <td>0</td>\n",
                            "        <td>670772142</td>\n",
                            "        <td>4</td>\n",
                            "        <td>2019-04-01</td>\n",
                            "        <td>Australia</td>\n",
                            "        <td>If you&#x27;ve ever been to Disneyland anywhere you&#x27;ll find Disneyland Hong Kong very similar in the layout when you walk into main street! It has a very familiar feel. One of the rides  its a Small World  is absolutely fabulous and worth doing. The day we visited was fairly hot and relatively busy but the queues moved fairly well. </td>\n",
                            "        <td>HongKong</td>\n",
                            "        <td>2019</td>\n",
                            "        <td>4</td>\n",
                            "        <td>Oceania</td>\n",
                            "    </tr>\n",
                            "    <tr>\n",
                            "        <td>1</td>\n",
                            "        <td>1</td>\n",
                            "        <td>670682799</td>\n",
                            "        <td>4</td>\n",
                            "        <td>2019-05-01</td>\n",
                            "        <td>Philippines</td>\n",
                            "        <td>Its been a while since d last time we visit HK Disneyland .. Yet, this time we only stay in Tomorrowland .. AKA Marvel land!Now they have Iron Man Experience n d Newly open Ant Man n d Wasp!!Ironman .. Great feature n so Exciting, especially d whole scenery of HK (HK central area to Kowloon)!Antman .. Changed by previous Buzz lightyear! More or less d same, but I&#x27;m expecting to have something most!!However, my boys like it!!Space Mountain .. Turns into Star Wars!! This 1 is Great!!!For cast members (staffs) .. Felt bit MINUS point from before!!! Just dun feel like its a Disney brand!! Seems more local like Ocean Park or even worst!!They got no SMILING face, but just wanna u to enter n attraction n leave!!Hello this is supposed to be Happiest Place on Earth brand!! But, just really Dont feel it!!Bakery in Main Street now have more attractive delicacies n Disney theme sweets .. These are Good Points!!Last, they also have Starbucks now inside the theme park!!</td>\n",
                            "        <td>HongKong</td>\n",
                            "        <td>2019</td>\n",
                            "        <td>5</td>\n",
                            "        <td>Asia</td>\n",
                            "    </tr>\n",
                            "</table>"
                        ]
                    },
                    "metadata": {},
                    "execution_count": 14
                }
            ],
            "metadata": {}
        },
        {
            "cell_type": "code",
            "execution_count": 8,
            "source": [
                "query = pd.read_sql_query(\"SELECT * FROM DB\", conn)\r\n",
                "query"
            ],
            "outputs": [
                {
                    "output_type": "execute_result",
                    "data": {
                        "text/plain": [
                            "       index  Unnamed: 0  Review_ID  Rating  Year_Month     Reviewer_Location  \\\n",
                            "0          0           0  670772142       4  2019-04-01             Australia   \n",
                            "1          1           1  670682799       4  2019-05-01           Philippines   \n",
                            "2          2           2  670623270       4  2019-04-01  United Arab Emirates   \n",
                            "3          3           3  670607911       4  2019-04-01             Australia   \n",
                            "4          4           4  670607296       4  2019-04-01        United Kingdom   \n",
                            "...      ...         ...        ...     ...         ...                   ...   \n",
                            "42639  42639       42651    1765031       5  2018-11-01        United Kingdom   \n",
                            "42640  42640       42652    1659553       5  2014-10-01                Canada   \n",
                            "42641  42641       42653    1645894       5  2014-03-01          South Africa   \n",
                            "42642  42642       42654    1618637       4  2012-04-01         United States   \n",
                            "42643  42643       42655    1536786       4  2015-09-01        United Kingdom   \n",
                            "\n",
                            "                                             Review_Text    Branch  Year  \\\n",
                            "0      If you've ever been to Disneyland anywhere you...  HongKong  2019   \n",
                            "1      Its been a while since d last time we visit HK...  HongKong  2019   \n",
                            "2      Thanks God it wasn   t too hot or too humid wh...  HongKong  2019   \n",
                            "3      HK Disneyland is a great compact park. Unfortu...  HongKong  2019   \n",
                            "4      the location is not in the city, took around 1...  HongKong  2019   \n",
                            "...                                                  ...       ...   ...   \n",
                            "42639  i went to disneyland paris in july 03 and thou...     Paris  2018   \n",
                            "42640  2 adults and 1 child of 11 visited Disneyland ...     Paris  2014   \n",
                            "42641  My eleven year old daughter and myself went to...     Paris  2014   \n",
                            "42642  This hotel, part of the Disneyland Paris compl...     Paris  2012   \n",
                            "42643  I went to the Disneyparis resort, in 1996, wit...     Paris  2015   \n",
                            "\n",
                            "       Month      Continent  \n",
                            "0          4        Oceania  \n",
                            "1          5           Asia  \n",
                            "2          4           Asia  \n",
                            "3          4        Oceania  \n",
                            "4          4         Europe  \n",
                            "...      ...            ...  \n",
                            "42639     11         Europe  \n",
                            "42640     10  North America  \n",
                            "42641      3         Africa  \n",
                            "42642      4  North America  \n",
                            "42643      9         Europe  \n",
                            "\n",
                            "[42644 rows x 11 columns]"
                        ],
                        "text/html": [
                            "<div>\n",
                            "<style scoped>\n",
                            "    .dataframe tbody tr th:only-of-type {\n",
                            "        vertical-align: middle;\n",
                            "    }\n",
                            "\n",
                            "    .dataframe tbody tr th {\n",
                            "        vertical-align: top;\n",
                            "    }\n",
                            "\n",
                            "    .dataframe thead th {\n",
                            "        text-align: right;\n",
                            "    }\n",
                            "</style>\n",
                            "<table border=\"1\" class=\"dataframe\">\n",
                            "  <thead>\n",
                            "    <tr style=\"text-align: right;\">\n",
                            "      <th></th>\n",
                            "      <th>index</th>\n",
                            "      <th>Unnamed: 0</th>\n",
                            "      <th>Review_ID</th>\n",
                            "      <th>Rating</th>\n",
                            "      <th>Year_Month</th>\n",
                            "      <th>Reviewer_Location</th>\n",
                            "      <th>Review_Text</th>\n",
                            "      <th>Branch</th>\n",
                            "      <th>Year</th>\n",
                            "      <th>Month</th>\n",
                            "      <th>Continent</th>\n",
                            "    </tr>\n",
                            "  </thead>\n",
                            "  <tbody>\n",
                            "    <tr>\n",
                            "      <th>0</th>\n",
                            "      <td>0</td>\n",
                            "      <td>0</td>\n",
                            "      <td>670772142</td>\n",
                            "      <td>4</td>\n",
                            "      <td>2019-04-01</td>\n",
                            "      <td>Australia</td>\n",
                            "      <td>If you've ever been to Disneyland anywhere you...</td>\n",
                            "      <td>HongKong</td>\n",
                            "      <td>2019</td>\n",
                            "      <td>4</td>\n",
                            "      <td>Oceania</td>\n",
                            "    </tr>\n",
                            "    <tr>\n",
                            "      <th>1</th>\n",
                            "      <td>1</td>\n",
                            "      <td>1</td>\n",
                            "      <td>670682799</td>\n",
                            "      <td>4</td>\n",
                            "      <td>2019-05-01</td>\n",
                            "      <td>Philippines</td>\n",
                            "      <td>Its been a while since d last time we visit HK...</td>\n",
                            "      <td>HongKong</td>\n",
                            "      <td>2019</td>\n",
                            "      <td>5</td>\n",
                            "      <td>Asia</td>\n",
                            "    </tr>\n",
                            "    <tr>\n",
                            "      <th>2</th>\n",
                            "      <td>2</td>\n",
                            "      <td>2</td>\n",
                            "      <td>670623270</td>\n",
                            "      <td>4</td>\n",
                            "      <td>2019-04-01</td>\n",
                            "      <td>United Arab Emirates</td>\n",
                            "      <td>Thanks God it wasn   t too hot or too humid wh...</td>\n",
                            "      <td>HongKong</td>\n",
                            "      <td>2019</td>\n",
                            "      <td>4</td>\n",
                            "      <td>Asia</td>\n",
                            "    </tr>\n",
                            "    <tr>\n",
                            "      <th>3</th>\n",
                            "      <td>3</td>\n",
                            "      <td>3</td>\n",
                            "      <td>670607911</td>\n",
                            "      <td>4</td>\n",
                            "      <td>2019-04-01</td>\n",
                            "      <td>Australia</td>\n",
                            "      <td>HK Disneyland is a great compact park. Unfortu...</td>\n",
                            "      <td>HongKong</td>\n",
                            "      <td>2019</td>\n",
                            "      <td>4</td>\n",
                            "      <td>Oceania</td>\n",
                            "    </tr>\n",
                            "    <tr>\n",
                            "      <th>4</th>\n",
                            "      <td>4</td>\n",
                            "      <td>4</td>\n",
                            "      <td>670607296</td>\n",
                            "      <td>4</td>\n",
                            "      <td>2019-04-01</td>\n",
                            "      <td>United Kingdom</td>\n",
                            "      <td>the location is not in the city, took around 1...</td>\n",
                            "      <td>HongKong</td>\n",
                            "      <td>2019</td>\n",
                            "      <td>4</td>\n",
                            "      <td>Europe</td>\n",
                            "    </tr>\n",
                            "    <tr>\n",
                            "      <th>...</th>\n",
                            "      <td>...</td>\n",
                            "      <td>...</td>\n",
                            "      <td>...</td>\n",
                            "      <td>...</td>\n",
                            "      <td>...</td>\n",
                            "      <td>...</td>\n",
                            "      <td>...</td>\n",
                            "      <td>...</td>\n",
                            "      <td>...</td>\n",
                            "      <td>...</td>\n",
                            "      <td>...</td>\n",
                            "    </tr>\n",
                            "    <tr>\n",
                            "      <th>42639</th>\n",
                            "      <td>42639</td>\n",
                            "      <td>42651</td>\n",
                            "      <td>1765031</td>\n",
                            "      <td>5</td>\n",
                            "      <td>2018-11-01</td>\n",
                            "      <td>United Kingdom</td>\n",
                            "      <td>i went to disneyland paris in july 03 and thou...</td>\n",
                            "      <td>Paris</td>\n",
                            "      <td>2018</td>\n",
                            "      <td>11</td>\n",
                            "      <td>Europe</td>\n",
                            "    </tr>\n",
                            "    <tr>\n",
                            "      <th>42640</th>\n",
                            "      <td>42640</td>\n",
                            "      <td>42652</td>\n",
                            "      <td>1659553</td>\n",
                            "      <td>5</td>\n",
                            "      <td>2014-10-01</td>\n",
                            "      <td>Canada</td>\n",
                            "      <td>2 adults and 1 child of 11 visited Disneyland ...</td>\n",
                            "      <td>Paris</td>\n",
                            "      <td>2014</td>\n",
                            "      <td>10</td>\n",
                            "      <td>North America</td>\n",
                            "    </tr>\n",
                            "    <tr>\n",
                            "      <th>42641</th>\n",
                            "      <td>42641</td>\n",
                            "      <td>42653</td>\n",
                            "      <td>1645894</td>\n",
                            "      <td>5</td>\n",
                            "      <td>2014-03-01</td>\n",
                            "      <td>South Africa</td>\n",
                            "      <td>My eleven year old daughter and myself went to...</td>\n",
                            "      <td>Paris</td>\n",
                            "      <td>2014</td>\n",
                            "      <td>3</td>\n",
                            "      <td>Africa</td>\n",
                            "    </tr>\n",
                            "    <tr>\n",
                            "      <th>42642</th>\n",
                            "      <td>42642</td>\n",
                            "      <td>42654</td>\n",
                            "      <td>1618637</td>\n",
                            "      <td>4</td>\n",
                            "      <td>2012-04-01</td>\n",
                            "      <td>United States</td>\n",
                            "      <td>This hotel, part of the Disneyland Paris compl...</td>\n",
                            "      <td>Paris</td>\n",
                            "      <td>2012</td>\n",
                            "      <td>4</td>\n",
                            "      <td>North America</td>\n",
                            "    </tr>\n",
                            "    <tr>\n",
                            "      <th>42643</th>\n",
                            "      <td>42643</td>\n",
                            "      <td>42655</td>\n",
                            "      <td>1536786</td>\n",
                            "      <td>4</td>\n",
                            "      <td>2015-09-01</td>\n",
                            "      <td>United Kingdom</td>\n",
                            "      <td>I went to the Disneyparis resort, in 1996, wit...</td>\n",
                            "      <td>Paris</td>\n",
                            "      <td>2015</td>\n",
                            "      <td>9</td>\n",
                            "      <td>Europe</td>\n",
                            "    </tr>\n",
                            "  </tbody>\n",
                            "</table>\n",
                            "<p>42644 rows × 11 columns</p>\n",
                            "</div>"
                        ]
                    },
                    "metadata": {},
                    "execution_count": 8
                }
            ],
            "metadata": {}
        },
        {
            "cell_type": "code",
            "execution_count": null,
            "source": [],
            "outputs": [],
            "metadata": {}
        },
        {
            "cell_type": "markdown",
            "source": [
                "#### Get the name of each Disneyland branch"
            ],
            "metadata": {}
        },
        {
            "cell_type": "code",
            "execution_count": 25,
            "source": [
                "%sql SELECT DISTINCT(Branch) FROM DB;"
            ],
            "outputs": [
                {
                    "output_type": "stream",
                    "name": "stdout",
                    "text": [
                        " * sqlite:///data.db\n",
                        "Done.\n"
                    ]
                },
                {
                    "output_type": "execute_result",
                    "data": {
                        "text/plain": [
                            "[('HongKong',), ('California',), ('Paris',)]"
                        ],
                        "text/html": [
                            "<table>\n",
                            "    <tr>\n",
                            "        <th>Branch</th>\n",
                            "    </tr>\n",
                            "    <tr>\n",
                            "        <td>HongKong</td>\n",
                            "    </tr>\n",
                            "    <tr>\n",
                            "        <td>California</td>\n",
                            "    </tr>\n",
                            "    <tr>\n",
                            "        <td>Paris</td>\n",
                            "    </tr>\n",
                            "</table>"
                        ]
                    },
                    "metadata": {},
                    "execution_count": 25
                }
            ],
            "metadata": {}
        },
        {
            "cell_type": "markdown",
            "source": [
                "#### Get number of reviews of each Disneyland branch"
            ],
            "metadata": {}
        },
        {
            "cell_type": "code",
            "execution_count": 24,
            "source": [
                "%sql SELECT Branch, COUNT(*) FROM DB GROUP BY Branch;"
            ],
            "outputs": [
                {
                    "output_type": "stream",
                    "name": "stdout",
                    "text": [
                        " * sqlite:///data.db\n",
                        "Done.\n"
                    ]
                },
                {
                    "output_type": "execute_result",
                    "data": {
                        "text/plain": [
                            "[('California', 19404), ('HongKong', 9611), ('Paris', 13629)]"
                        ],
                        "text/html": [
                            "<table>\n",
                            "    <tr>\n",
                            "        <th>Branch</th>\n",
                            "        <th>COUNT(*)</th>\n",
                            "    </tr>\n",
                            "    <tr>\n",
                            "        <td>California</td>\n",
                            "        <td>19404</td>\n",
                            "    </tr>\n",
                            "    <tr>\n",
                            "        <td>HongKong</td>\n",
                            "        <td>9611</td>\n",
                            "    </tr>\n",
                            "    <tr>\n",
                            "        <td>Paris</td>\n",
                            "        <td>13629</td>\n",
                            "    </tr>\n",
                            "</table>"
                        ]
                    },
                    "metadata": {},
                    "execution_count": 24
                }
            ],
            "metadata": {}
        },
        {
            "cell_type": "markdown",
            "source": [
                "#### Get number of top rating(5) reviews"
            ],
            "metadata": {}
        },
        {
            "cell_type": "code",
            "execution_count": 15,
            "source": [
                "%sql SELECT COUNT(*) FROM DB WHERE Rating = '5';"
            ],
            "outputs": [
                {
                    "output_type": "stream",
                    "name": "stdout",
                    "text": [
                        " * sqlite:///data.db\n",
                        "Done.\n"
                    ]
                },
                {
                    "output_type": "execute_result",
                    "data": {
                        "text/plain": [
                            "[(23140,)]"
                        ],
                        "text/html": [
                            "<table>\n",
                            "    <tr>\n",
                            "        <th>COUNT(*)</th>\n",
                            "    </tr>\n",
                            "    <tr>\n",
                            "        <td>23140</td>\n",
                            "    </tr>\n",
                            "</table>"
                        ]
                    },
                    "metadata": {},
                    "execution_count": 15
                }
            ],
            "metadata": {}
        },
        {
            "cell_type": "markdown",
            "source": [
                "#### Get number of low rating(1) reviews"
            ],
            "metadata": {}
        },
        {
            "cell_type": "code",
            "execution_count": 16,
            "source": [
                "%sql SELECT COUNT(*) FROM DB WHERE Rating = '1';"
            ],
            "outputs": [
                {
                    "output_type": "stream",
                    "name": "stdout",
                    "text": [
                        " * sqlite:///data.db\n",
                        "Done.\n"
                    ]
                },
                {
                    "output_type": "execute_result",
                    "data": {
                        "text/plain": [
                            "[(1499,)]"
                        ],
                        "text/html": [
                            "<table>\n",
                            "    <tr>\n",
                            "        <th>COUNT(*)</th>\n",
                            "    </tr>\n",
                            "    <tr>\n",
                            "        <td>1499</td>\n",
                            "    </tr>\n",
                            "</table>"
                        ]
                    },
                    "metadata": {},
                    "execution_count": 16
                }
            ],
            "metadata": {}
        },
        {
            "cell_type": "markdown",
            "source": [
                "#### Get the number of top rating from each Disneyland branch"
            ],
            "metadata": {}
        },
        {
            "cell_type": "code",
            "execution_count": 29,
            "source": [
                "%sql SELECT Branch, Rating, COUNT(*) FROM DB WHERE Rating = 5 GROUP BY Branch;"
            ],
            "outputs": [
                {
                    "output_type": "stream",
                    "name": "stdout",
                    "text": [
                        " * sqlite:///data.db\n",
                        "Done.\n"
                    ]
                },
                {
                    "output_type": "execute_result",
                    "data": {
                        "text/plain": [
                            "[('California', 5, 12517), ('HongKong', 5, 4513), ('Paris', 5, 6110)]"
                        ],
                        "text/html": [
                            "<table>\n",
                            "    <tr>\n",
                            "        <th>Branch</th>\n",
                            "        <th>Rating</th>\n",
                            "        <th>COUNT(*)</th>\n",
                            "    </tr>\n",
                            "    <tr>\n",
                            "        <td>California</td>\n",
                            "        <td>5</td>\n",
                            "        <td>12517</td>\n",
                            "    </tr>\n",
                            "    <tr>\n",
                            "        <td>HongKong</td>\n",
                            "        <td>5</td>\n",
                            "        <td>4513</td>\n",
                            "    </tr>\n",
                            "    <tr>\n",
                            "        <td>Paris</td>\n",
                            "        <td>5</td>\n",
                            "        <td>6110</td>\n",
                            "    </tr>\n",
                            "</table>"
                        ]
                    },
                    "metadata": {},
                    "execution_count": 29
                }
            ],
            "metadata": {}
        },
        {
            "cell_type": "markdown",
            "source": [
                "#### Get the number of rating from each Disneyland branch, ordered by the different ratings"
            ],
            "metadata": {}
        },
        {
            "cell_type": "code",
            "execution_count": 38,
            "source": [
                "%sql SELECT Branch, Rating, COUNT(*) FROM DB WHERE Branch = 'Paris' GROUP BY Rating ORDER BY Rating;"
            ],
            "outputs": [
                {
                    "output_type": "stream",
                    "name": "stdout",
                    "text": [
                        " * sqlite:///data.db\n",
                        "Done.\n"
                    ]
                },
                {
                    "output_type": "execute_result",
                    "data": {
                        "text/plain": [
                            "[('Paris', 1, 828),\n",
                            " ('Paris', 2, 1044),\n",
                            " ('Paris', 3, 2083),\n",
                            " ('Paris', 4, 3564),\n",
                            " ('Paris', 5, 6110)]"
                        ],
                        "text/html": [
                            "<table>\n",
                            "    <tr>\n",
                            "        <th>Branch</th>\n",
                            "        <th>Rating</th>\n",
                            "        <th>COUNT(*)</th>\n",
                            "    </tr>\n",
                            "    <tr>\n",
                            "        <td>Paris</td>\n",
                            "        <td>1</td>\n",
                            "        <td>828</td>\n",
                            "    </tr>\n",
                            "    <tr>\n",
                            "        <td>Paris</td>\n",
                            "        <td>2</td>\n",
                            "        <td>1044</td>\n",
                            "    </tr>\n",
                            "    <tr>\n",
                            "        <td>Paris</td>\n",
                            "        <td>3</td>\n",
                            "        <td>2083</td>\n",
                            "    </tr>\n",
                            "    <tr>\n",
                            "        <td>Paris</td>\n",
                            "        <td>4</td>\n",
                            "        <td>3564</td>\n",
                            "    </tr>\n",
                            "    <tr>\n",
                            "        <td>Paris</td>\n",
                            "        <td>5</td>\n",
                            "        <td>6110</td>\n",
                            "    </tr>\n",
                            "</table>"
                        ]
                    },
                    "metadata": {},
                    "execution_count": 38
                }
            ],
            "metadata": {}
        },
        {
            "cell_type": "code",
            "execution_count": 42,
            "source": [
                "%sql SELECT Branch, Rating, COUNT(*) FROM DB WHERE Branch = 'HongKong' GROUP BY Rating ORDER BY Rating;"
            ],
            "outputs": [
                {
                    "output_type": "stream",
                    "name": "stdout",
                    "text": [
                        " * sqlite:///data.db\n",
                        "Done.\n"
                    ]
                },
                {
                    "output_type": "execute_result",
                    "data": {
                        "text/plain": [
                            "[('HongKong', 1, 172),\n",
                            " ('HongKong', 2, 336),\n",
                            " ('HongKong', 3, 1363),\n",
                            " ('HongKong', 4, 3227),\n",
                            " ('HongKong', 5, 4513)]"
                        ],
                        "text/html": [
                            "<table>\n",
                            "    <tr>\n",
                            "        <th>Branch</th>\n",
                            "        <th>Rating</th>\n",
                            "        <th>COUNT(*)</th>\n",
                            "    </tr>\n",
                            "    <tr>\n",
                            "        <td>HongKong</td>\n",
                            "        <td>1</td>\n",
                            "        <td>172</td>\n",
                            "    </tr>\n",
                            "    <tr>\n",
                            "        <td>HongKong</td>\n",
                            "        <td>2</td>\n",
                            "        <td>336</td>\n",
                            "    </tr>\n",
                            "    <tr>\n",
                            "        <td>HongKong</td>\n",
                            "        <td>3</td>\n",
                            "        <td>1363</td>\n",
                            "    </tr>\n",
                            "    <tr>\n",
                            "        <td>HongKong</td>\n",
                            "        <td>4</td>\n",
                            "        <td>3227</td>\n",
                            "    </tr>\n",
                            "    <tr>\n",
                            "        <td>HongKong</td>\n",
                            "        <td>5</td>\n",
                            "        <td>4513</td>\n",
                            "    </tr>\n",
                            "</table>"
                        ]
                    },
                    "metadata": {},
                    "execution_count": 42
                }
            ],
            "metadata": {}
        },
        {
            "cell_type": "code",
            "execution_count": 40,
            "source": [
                "%sql SELECT Branch, Rating, COUNT(*) FROM DB WHERE Branch = 'California' GROUP BY Rating ORDER BY Rating;"
            ],
            "outputs": [
                {
                    "output_type": "stream",
                    "name": "stdout",
                    "text": [
                        " * sqlite:///data.db\n",
                        "Done.\n"
                    ]
                },
                {
                    "output_type": "execute_result",
                    "data": {
                        "text/plain": [
                            "[('California', 1, 499),\n",
                            " ('California', 2, 747),\n",
                            " ('California', 3, 1661),\n",
                            " ('California', 4, 3980),\n",
                            " ('California', 5, 12517)]"
                        ],
                        "text/html": [
                            "<table>\n",
                            "    <tr>\n",
                            "        <th>Branch</th>\n",
                            "        <th>Rating</th>\n",
                            "        <th>COUNT(*)</th>\n",
                            "    </tr>\n",
                            "    <tr>\n",
                            "        <td>California</td>\n",
                            "        <td>1</td>\n",
                            "        <td>499</td>\n",
                            "    </tr>\n",
                            "    <tr>\n",
                            "        <td>California</td>\n",
                            "        <td>2</td>\n",
                            "        <td>747</td>\n",
                            "    </tr>\n",
                            "    <tr>\n",
                            "        <td>California</td>\n",
                            "        <td>3</td>\n",
                            "        <td>1661</td>\n",
                            "    </tr>\n",
                            "    <tr>\n",
                            "        <td>California</td>\n",
                            "        <td>4</td>\n",
                            "        <td>3980</td>\n",
                            "    </tr>\n",
                            "    <tr>\n",
                            "        <td>California</td>\n",
                            "        <td>5</td>\n",
                            "        <td>12517</td>\n",
                            "    </tr>\n",
                            "</table>"
                        ]
                    },
                    "metadata": {},
                    "execution_count": 40
                }
            ],
            "metadata": {}
        },
        {
            "cell_type": "markdown",
            "source": [
                "#### Get the average rating"
            ],
            "metadata": {}
        },
        {
            "cell_type": "code",
            "execution_count": 17,
            "source": [
                "%sql SELECT AVG(Rating) FROM DB;"
            ],
            "outputs": [
                {
                    "output_type": "stream",
                    "name": "stdout",
                    "text": [
                        " * sqlite:///data.db\n",
                        "Done.\n"
                    ]
                },
                {
                    "output_type": "execute_result",
                    "data": {
                        "text/plain": [
                            "[(4.217662508207485,)]"
                        ],
                        "text/html": [
                            "<table>\n",
                            "    <tr>\n",
                            "        <th>AVG(Rating)</th>\n",
                            "    </tr>\n",
                            "    <tr>\n",
                            "        <td>4.217662508207485</td>\n",
                            "    </tr>\n",
                            "</table>"
                        ]
                    },
                    "metadata": {},
                    "execution_count": 17
                }
            ],
            "metadata": {}
        },
        {
            "cell_type": "markdown",
            "source": [
                "#### Get the average rating of each Disneyland branches"
            ],
            "metadata": {}
        },
        {
            "cell_type": "code",
            "execution_count": 22,
            "source": [
                "%sql SELECT Branch, AVG(Rating) FROM DB GROUP BY Branch;"
            ],
            "outputs": [
                {
                    "output_type": "stream",
                    "name": "stdout",
                    "text": [
                        " * sqlite:///data.db\n",
                        "Done.\n"
                    ]
                },
                {
                    "output_type": "execute_result",
                    "data": {
                        "text/plain": [
                            "[('California', 4.405328798185941),\n",
                            " ('HongKong', 4.204141088336281),\n",
                            " ('Paris', 3.9600117396727565)]"
                        ],
                        "text/html": [
                            "<table>\n",
                            "    <tr>\n",
                            "        <th>Branch</th>\n",
                            "        <th>AVG(Rating)</th>\n",
                            "    </tr>\n",
                            "    <tr>\n",
                            "        <td>California</td>\n",
                            "        <td>4.405328798185941</td>\n",
                            "    </tr>\n",
                            "    <tr>\n",
                            "        <td>HongKong</td>\n",
                            "        <td>4.204141088336281</td>\n",
                            "    </tr>\n",
                            "    <tr>\n",
                            "        <td>Paris</td>\n",
                            "        <td>3.9600117396727565</td>\n",
                            "    </tr>\n",
                            "</table>"
                        ]
                    },
                    "metadata": {},
                    "execution_count": 22
                }
            ],
            "metadata": {}
        },
        {
            "cell_type": "code",
            "execution_count": null,
            "source": [],
            "outputs": [],
            "metadata": {}
        },
        {
            "cell_type": "markdown",
            "source": [
                "#### Get the total number of reviews for each month in descending order"
            ],
            "metadata": {}
        },
        {
            "cell_type": "code",
            "execution_count": 49,
            "source": [
                "%sql SELECT Month, COUNT(*) FROM DB GROUP BY Month ORDER BY COUNT(*) DESC"
            ],
            "outputs": [
                {
                    "output_type": "stream",
                    "name": "stdout",
                    "text": [
                        " * sqlite:///data.db\n",
                        "Done.\n"
                    ]
                },
                {
                    "output_type": "execute_result",
                    "data": {
                        "text/plain": [
                            "[(8, 4238),\n",
                            " (7, 4082),\n",
                            " (12, 4074),\n",
                            " (10, 3981),\n",
                            " (6, 3791),\n",
                            " (4, 3717),\n",
                            " (5, 3645),\n",
                            " (9, 3442),\n",
                            " (3, 3339),\n",
                            " (11, 2912),\n",
                            " (1, 2730),\n",
                            " (2, 2693)]"
                        ],
                        "text/html": [
                            "<table>\n",
                            "    <tr>\n",
                            "        <th>Month</th>\n",
                            "        <th>COUNT(*)</th>\n",
                            "    </tr>\n",
                            "    <tr>\n",
                            "        <td>8</td>\n",
                            "        <td>4238</td>\n",
                            "    </tr>\n",
                            "    <tr>\n",
                            "        <td>7</td>\n",
                            "        <td>4082</td>\n",
                            "    </tr>\n",
                            "    <tr>\n",
                            "        <td>12</td>\n",
                            "        <td>4074</td>\n",
                            "    </tr>\n",
                            "    <tr>\n",
                            "        <td>10</td>\n",
                            "        <td>3981</td>\n",
                            "    </tr>\n",
                            "    <tr>\n",
                            "        <td>6</td>\n",
                            "        <td>3791</td>\n",
                            "    </tr>\n",
                            "    <tr>\n",
                            "        <td>4</td>\n",
                            "        <td>3717</td>\n",
                            "    </tr>\n",
                            "    <tr>\n",
                            "        <td>5</td>\n",
                            "        <td>3645</td>\n",
                            "    </tr>\n",
                            "    <tr>\n",
                            "        <td>9</td>\n",
                            "        <td>3442</td>\n",
                            "    </tr>\n",
                            "    <tr>\n",
                            "        <td>3</td>\n",
                            "        <td>3339</td>\n",
                            "    </tr>\n",
                            "    <tr>\n",
                            "        <td>11</td>\n",
                            "        <td>2912</td>\n",
                            "    </tr>\n",
                            "    <tr>\n",
                            "        <td>1</td>\n",
                            "        <td>2730</td>\n",
                            "    </tr>\n",
                            "    <tr>\n",
                            "        <td>2</td>\n",
                            "        <td>2693</td>\n",
                            "    </tr>\n",
                            "</table>"
                        ]
                    },
                    "metadata": {},
                    "execution_count": 49
                }
            ],
            "metadata": {}
        },
        {
            "cell_type": "markdown",
            "source": [
                "#### Get the month with the highest number of reviewers for each branch"
            ],
            "metadata": {}
        },
        {
            "cell_type": "code",
            "execution_count": 76,
            "source": [
                "%sql SELECT Branch, Month, COUNT(*) FROM DB WHERE Branch = 'California' GROUP BY Month ORDER BY COUNT(*) DESC LIMIT 1;"
            ],
            "outputs": [
                {
                    "output_type": "stream",
                    "name": "stdout",
                    "text": [
                        " * sqlite:///data.db\n",
                        "Done.\n"
                    ]
                },
                {
                    "output_type": "execute_result",
                    "data": {
                        "text/plain": [
                            "[('California', 7, 1937)]"
                        ],
                        "text/html": [
                            "<table>\n",
                            "    <tr>\n",
                            "        <th>Branch</th>\n",
                            "        <th>Month</th>\n",
                            "        <th>COUNT(*)</th>\n",
                            "    </tr>\n",
                            "    <tr>\n",
                            "        <td>California</td>\n",
                            "        <td>7</td>\n",
                            "        <td>1937</td>\n",
                            "    </tr>\n",
                            "</table>"
                        ]
                    },
                    "metadata": {},
                    "execution_count": 76
                }
            ],
            "metadata": {}
        },
        {
            "cell_type": "code",
            "execution_count": 77,
            "source": [
                "%sql SELECT Branch, Month, COUNT(*) FROM DB WHERE Branch = 'HongKong' GROUP BY Month ORDER BY COUNT(*) DESC LIMIT 1;"
            ],
            "outputs": [
                {
                    "output_type": "stream",
                    "name": "stdout",
                    "text": [
                        " * sqlite:///data.db\n",
                        "Done.\n"
                    ]
                },
                {
                    "output_type": "execute_result",
                    "data": {
                        "text/plain": [
                            "[('HongKong', 12, 1174)]"
                        ],
                        "text/html": [
                            "<table>\n",
                            "    <tr>\n",
                            "        <th>Branch</th>\n",
                            "        <th>Month</th>\n",
                            "        <th>COUNT(*)</th>\n",
                            "    </tr>\n",
                            "    <tr>\n",
                            "        <td>HongKong</td>\n",
                            "        <td>12</td>\n",
                            "        <td>1174</td>\n",
                            "    </tr>\n",
                            "</table>"
                        ]
                    },
                    "metadata": {},
                    "execution_count": 77
                }
            ],
            "metadata": {}
        },
        {
            "cell_type": "code",
            "execution_count": 78,
            "source": [
                "%sql SELECT Branch, Month, COUNT(*) FROM DB WHERE Branch = 'Paris' GROUP BY Month ORDER BY COUNT(*) DESC LIMIT 1;"
            ],
            "outputs": [
                {
                    "output_type": "stream",
                    "name": "stdout",
                    "text": [
                        " * sqlite:///data.db\n",
                        "Done.\n"
                    ]
                },
                {
                    "output_type": "execute_result",
                    "data": {
                        "text/plain": [
                            "[('Paris', 8, 1784)]"
                        ],
                        "text/html": [
                            "<table>\n",
                            "    <tr>\n",
                            "        <th>Branch</th>\n",
                            "        <th>Month</th>\n",
                            "        <th>COUNT(*)</th>\n",
                            "    </tr>\n",
                            "    <tr>\n",
                            "        <td>Paris</td>\n",
                            "        <td>8</td>\n",
                            "        <td>1784</td>\n",
                            "    </tr>\n",
                            "</table>"
                        ]
                    },
                    "metadata": {},
                    "execution_count": 78
                }
            ],
            "metadata": {}
        },
        {
            "cell_type": "markdown",
            "source": [
                "#### Get the year with the highest number of reviewers for each branch"
            ],
            "metadata": {}
        },
        {
            "cell_type": "code",
            "execution_count": 83,
            "source": [
                "%sql SELECT Branch, Year, COUNT(*) FROM DB WHERE Branch = 'California' GROUP BY Year ORDER BY COUNT(*) DESC LIMIT 1;"
            ],
            "outputs": [
                {
                    "output_type": "stream",
                    "name": "stdout",
                    "text": [
                        " * sqlite:///data.db\n",
                        "Done.\n"
                    ]
                },
                {
                    "output_type": "execute_result",
                    "data": {
                        "text/plain": [
                            "[('California', 2015, 3352)]"
                        ],
                        "text/html": [
                            "<table>\n",
                            "    <tr>\n",
                            "        <th>Branch</th>\n",
                            "        <th>Year</th>\n",
                            "        <th>COUNT(*)</th>\n",
                            "    </tr>\n",
                            "    <tr>\n",
                            "        <td>California</td>\n",
                            "        <td>2015</td>\n",
                            "        <td>3352</td>\n",
                            "    </tr>\n",
                            "</table>"
                        ]
                    },
                    "metadata": {},
                    "execution_count": 83
                }
            ],
            "metadata": {}
        },
        {
            "cell_type": "code",
            "execution_count": 84,
            "source": [
                "%sql SELECT Branch, Year, COUNT(*) FROM DB WHERE Branch = 'HongKong' GROUP BY Year ORDER BY COUNT(*) DESC LIMIT 1;"
            ],
            "outputs": [
                {
                    "output_type": "stream",
                    "name": "stdout",
                    "text": [
                        " * sqlite:///data.db\n",
                        "Done.\n"
                    ]
                },
                {
                    "output_type": "execute_result",
                    "data": {
                        "text/plain": [
                            "[('HongKong', 2016, 1886)]"
                        ],
                        "text/html": [
                            "<table>\n",
                            "    <tr>\n",
                            "        <th>Branch</th>\n",
                            "        <th>Year</th>\n",
                            "        <th>COUNT(*)</th>\n",
                            "    </tr>\n",
                            "    <tr>\n",
                            "        <td>HongKong</td>\n",
                            "        <td>2016</td>\n",
                            "        <td>1886</td>\n",
                            "    </tr>\n",
                            "</table>"
                        ]
                    },
                    "metadata": {},
                    "execution_count": 84
                }
            ],
            "metadata": {}
        },
        {
            "cell_type": "code",
            "execution_count": 85,
            "source": [
                "%sql SELECT Branch, Year, COUNT(*) FROM DB WHERE Branch = 'Paris' GROUP BY Year ORDER BY COUNT(*) DESC LIMIT 1;"
            ],
            "outputs": [
                {
                    "output_type": "stream",
                    "name": "stdout",
                    "text": [
                        " * sqlite:///data.db\n",
                        "Done.\n"
                    ]
                },
                {
                    "output_type": "execute_result",
                    "data": {
                        "text/plain": [
                            "[('Paris', 2015, 2253)]"
                        ],
                        "text/html": [
                            "<table>\n",
                            "    <tr>\n",
                            "        <th>Branch</th>\n",
                            "        <th>Year</th>\n",
                            "        <th>COUNT(*)</th>\n",
                            "    </tr>\n",
                            "    <tr>\n",
                            "        <td>Paris</td>\n",
                            "        <td>2015</td>\n",
                            "        <td>2253</td>\n",
                            "    </tr>\n",
                            "</table>"
                        ]
                    },
                    "metadata": {},
                    "execution_count": 85
                }
            ],
            "metadata": {}
        },
        {
            "cell_type": "code",
            "execution_count": null,
            "source": [],
            "outputs": [],
            "metadata": {}
        },
        {
            "cell_type": "markdown",
            "source": [
                "#### Get the region where the reviewers are from"
            ],
            "metadata": {}
        },
        {
            "cell_type": "code",
            "execution_count": 86,
            "source": [
                "%sql SELECT DISTINCT(Continent) FROM DB;"
            ],
            "outputs": [
                {
                    "output_type": "stream",
                    "name": "stdout",
                    "text": [
                        " * sqlite:///data.db\n",
                        "Done.\n"
                    ]
                },
                {
                    "output_type": "execute_result",
                    "data": {
                        "text/plain": [
                            "[('Oceania',),\n",
                            " ('Asia',),\n",
                            " ('Europe',),\n",
                            " ('North America',),\n",
                            " ('Africa',),\n",
                            " ('South America',),\n",
                            " ('EU',),\n",
                            " ('None',)]"
                        ],
                        "text/html": [
                            "<table>\n",
                            "    <tr>\n",
                            "        <th>Continent</th>\n",
                            "    </tr>\n",
                            "    <tr>\n",
                            "        <td>Oceania</td>\n",
                            "    </tr>\n",
                            "    <tr>\n",
                            "        <td>Asia</td>\n",
                            "    </tr>\n",
                            "    <tr>\n",
                            "        <td>Europe</td>\n",
                            "    </tr>\n",
                            "    <tr>\n",
                            "        <td>North America</td>\n",
                            "    </tr>\n",
                            "    <tr>\n",
                            "        <td>Africa</td>\n",
                            "    </tr>\n",
                            "    <tr>\n",
                            "        <td>South America</td>\n",
                            "    </tr>\n",
                            "    <tr>\n",
                            "        <td>EU</td>\n",
                            "    </tr>\n",
                            "    <tr>\n",
                            "        <td>None</td>\n",
                            "    </tr>\n",
                            "</table>"
                        ]
                    },
                    "metadata": {},
                    "execution_count": 86
                }
            ],
            "metadata": {}
        },
        {
            "cell_type": "markdown",
            "source": [
                "#### Get the number of reviewers for each continent"
            ],
            "metadata": {}
        },
        {
            "cell_type": "code",
            "execution_count": 89,
            "source": [
                "%sql SELECT Continent, COUNT(*) FROM DB GROUP BY Continent ORDER BY COUNT(*) DESC;"
            ],
            "outputs": [
                {
                    "output_type": "stream",
                    "name": "stdout",
                    "text": [
                        " * sqlite:///data.db\n",
                        "Done.\n"
                    ]
                },
                {
                    "output_type": "execute_result",
                    "data": {
                        "text/plain": [
                            "[('North America', 16977),\n",
                            " ('Europe', 11734),\n",
                            " ('Asia', 7007),\n",
                            " ('Oceania', 5470),\n",
                            " ('EU', 817),\n",
                            " ('Africa', 446),\n",
                            " ('South America', 184),\n",
                            " ('None', 9)]"
                        ],
                        "text/html": [
                            "<table>\n",
                            "    <tr>\n",
                            "        <th>Continent</th>\n",
                            "        <th>COUNT(*)</th>\n",
                            "    </tr>\n",
                            "    <tr>\n",
                            "        <td>North America</td>\n",
                            "        <td>16977</td>\n",
                            "    </tr>\n",
                            "    <tr>\n",
                            "        <td>Europe</td>\n",
                            "        <td>11734</td>\n",
                            "    </tr>\n",
                            "    <tr>\n",
                            "        <td>Asia</td>\n",
                            "        <td>7007</td>\n",
                            "    </tr>\n",
                            "    <tr>\n",
                            "        <td>Oceania</td>\n",
                            "        <td>5470</td>\n",
                            "    </tr>\n",
                            "    <tr>\n",
                            "        <td>EU</td>\n",
                            "        <td>817</td>\n",
                            "    </tr>\n",
                            "    <tr>\n",
                            "        <td>Africa</td>\n",
                            "        <td>446</td>\n",
                            "    </tr>\n",
                            "    <tr>\n",
                            "        <td>South America</td>\n",
                            "        <td>184</td>\n",
                            "    </tr>\n",
                            "    <tr>\n",
                            "        <td>None</td>\n",
                            "        <td>9</td>\n",
                            "    </tr>\n",
                            "</table>"
                        ]
                    },
                    "metadata": {},
                    "execution_count": 89
                }
            ],
            "metadata": {}
        },
        {
            "cell_type": "markdown",
            "source": [
                "#### Get the countries of the reviewers from the region 'None' and show how many comes from each country"
            ],
            "metadata": {}
        },
        {
            "cell_type": "code",
            "execution_count": 92,
            "source": [
                "%sql SELECT Reviewer_Location AS Country, COUNT(*) AS Total FROM DB WHERE Continent = 'None' GROUP BY Country;"
            ],
            "outputs": [
                {
                    "output_type": "stream",
                    "name": "stdout",
                    "text": [
                        " * sqlite:///data.db\n",
                        "Done.\n"
                    ]
                },
                {
                    "output_type": "execute_result",
                    "data": {
                        "text/plain": [
                            "[('Caribbean Netherlands', 1),\n",
                            " ('The Bahamas', 2),\n",
                            " ('Timor-Leste', 1),\n",
                            " ('U.S. Virgin Islands', 5)]"
                        ],
                        "text/html": [
                            "<table>\n",
                            "    <tr>\n",
                            "        <th>Country</th>\n",
                            "        <th>Total</th>\n",
                            "    </tr>\n",
                            "    <tr>\n",
                            "        <td>Caribbean Netherlands</td>\n",
                            "        <td>1</td>\n",
                            "    </tr>\n",
                            "    <tr>\n",
                            "        <td>The Bahamas</td>\n",
                            "        <td>2</td>\n",
                            "    </tr>\n",
                            "    <tr>\n",
                            "        <td>Timor-Leste</td>\n",
                            "        <td>1</td>\n",
                            "    </tr>\n",
                            "    <tr>\n",
                            "        <td>U.S. Virgin Islands</td>\n",
                            "        <td>5</td>\n",
                            "    </tr>\n",
                            "</table>"
                        ]
                    },
                    "metadata": {},
                    "execution_count": 92
                }
            ],
            "metadata": {}
        },
        {
            "cell_type": "code",
            "execution_count": null,
            "source": [],
            "outputs": [],
            "metadata": {}
        },
        {
            "cell_type": "markdown",
            "source": [
                "#### Get the region where most of the reviewers come from for each Disneyland branch"
            ],
            "metadata": {}
        },
        {
            "cell_type": "code",
            "execution_count": 136,
            "source": [
                "%%sql \r\n",
                "SELECT Branch, Continent, Count(*) AS Total, \r\n",
                "(COUNT(*)*1.0/(SELECT COUNT(*) FROM DB)*1.0)*100.0 AS Percent\r\n",
                "FROM DB \r\n",
                "GROUP BY Branch, Continent \r\n",
                "ORDER BY Count(Continent) DESC;"
            ],
            "outputs": [
                {
                    "output_type": "stream",
                    "name": "stdout",
                    "text": [
                        " * sqlite:///data.db\n",
                        "Done.\n"
                    ]
                },
                {
                    "output_type": "execute_result",
                    "data": {
                        "text/plain": [
                            "[('California', 'North America', 14329, 33.60144451739987),\n",
                            " ('Paris', 'Europe', 9437, 22.1297251664947),\n",
                            " ('HongKong', 'Asia', 5386, 12.630147265734923),\n",
                            " ('California', 'Oceania', 2993, 7.018572366569741),\n",
                            " ('HongKong', 'Oceania', 1818, 4.263202326235812),\n",
                            " ('Paris', 'North America', 1550, 3.6347434574617767),\n",
                            " ('California', 'Europe', 1275, 2.989869618234687),\n",
                            " ('HongKong', 'North America', 1098, 2.5748053653503424),\n",
                            " ('Paris', 'Asia', 1048, 2.4575555763999626),\n",
                            " ('HongKong', 'Europe', 1022, 2.396585686145765),\n",
                            " ('Paris', 'EU', 678, 1.5899071381671515),\n",
                            " ('Paris', 'Oceania', 659, 1.545352218366007),\n",
                            " ('California', 'Asia', 573, 1.3436825813713535),\n",
                            " ('HongKong', 'Africa', 192, 0.45023918956945874),\n",
                            " ('Paris', 'Africa', 191, 0.4478941937904512),\n",
                            " ('California', 'South America', 89, 0.20870462433167622),\n",
                            " ('California', 'EU', 75, 0.17587468342556983),\n",
                            " ('Paris', 'South America', 66, 0.15476972141450143),\n",
                            " ('HongKong', 'EU', 64, 0.15007972985648627),\n",
                            " ('California', 'Africa', 63, 0.14773473407747867),\n",
                            " ('HongKong', 'South America', 29, 0.06800487759122034),\n",
                            " ('California', 'None', 7, 0.016414970453053183),\n",
                            " ('HongKong', 'None', 2, 0.004689991558015196)]"
                        ],
                        "text/html": [
                            "<table>\n",
                            "    <tr>\n",
                            "        <th>Branch</th>\n",
                            "        <th>Continent</th>\n",
                            "        <th>Total</th>\n",
                            "        <th>Percent</th>\n",
                            "    </tr>\n",
                            "    <tr>\n",
                            "        <td>California</td>\n",
                            "        <td>North America</td>\n",
                            "        <td>14329</td>\n",
                            "        <td>33.60144451739987</td>\n",
                            "    </tr>\n",
                            "    <tr>\n",
                            "        <td>Paris</td>\n",
                            "        <td>Europe</td>\n",
                            "        <td>9437</td>\n",
                            "        <td>22.1297251664947</td>\n",
                            "    </tr>\n",
                            "    <tr>\n",
                            "        <td>HongKong</td>\n",
                            "        <td>Asia</td>\n",
                            "        <td>5386</td>\n",
                            "        <td>12.630147265734923</td>\n",
                            "    </tr>\n",
                            "    <tr>\n",
                            "        <td>California</td>\n",
                            "        <td>Oceania</td>\n",
                            "        <td>2993</td>\n",
                            "        <td>7.018572366569741</td>\n",
                            "    </tr>\n",
                            "    <tr>\n",
                            "        <td>HongKong</td>\n",
                            "        <td>Oceania</td>\n",
                            "        <td>1818</td>\n",
                            "        <td>4.263202326235812</td>\n",
                            "    </tr>\n",
                            "    <tr>\n",
                            "        <td>Paris</td>\n",
                            "        <td>North America</td>\n",
                            "        <td>1550</td>\n",
                            "        <td>3.6347434574617767</td>\n",
                            "    </tr>\n",
                            "    <tr>\n",
                            "        <td>California</td>\n",
                            "        <td>Europe</td>\n",
                            "        <td>1275</td>\n",
                            "        <td>2.989869618234687</td>\n",
                            "    </tr>\n",
                            "    <tr>\n",
                            "        <td>HongKong</td>\n",
                            "        <td>North America</td>\n",
                            "        <td>1098</td>\n",
                            "        <td>2.5748053653503424</td>\n",
                            "    </tr>\n",
                            "    <tr>\n",
                            "        <td>Paris</td>\n",
                            "        <td>Asia</td>\n",
                            "        <td>1048</td>\n",
                            "        <td>2.4575555763999626</td>\n",
                            "    </tr>\n",
                            "    <tr>\n",
                            "        <td>HongKong</td>\n",
                            "        <td>Europe</td>\n",
                            "        <td>1022</td>\n",
                            "        <td>2.396585686145765</td>\n",
                            "    </tr>\n",
                            "    <tr>\n",
                            "        <td>Paris</td>\n",
                            "        <td>EU</td>\n",
                            "        <td>678</td>\n",
                            "        <td>1.5899071381671515</td>\n",
                            "    </tr>\n",
                            "    <tr>\n",
                            "        <td>Paris</td>\n",
                            "        <td>Oceania</td>\n",
                            "        <td>659</td>\n",
                            "        <td>1.545352218366007</td>\n",
                            "    </tr>\n",
                            "    <tr>\n",
                            "        <td>California</td>\n",
                            "        <td>Asia</td>\n",
                            "        <td>573</td>\n",
                            "        <td>1.3436825813713535</td>\n",
                            "    </tr>\n",
                            "    <tr>\n",
                            "        <td>HongKong</td>\n",
                            "        <td>Africa</td>\n",
                            "        <td>192</td>\n",
                            "        <td>0.45023918956945874</td>\n",
                            "    </tr>\n",
                            "    <tr>\n",
                            "        <td>Paris</td>\n",
                            "        <td>Africa</td>\n",
                            "        <td>191</td>\n",
                            "        <td>0.4478941937904512</td>\n",
                            "    </tr>\n",
                            "    <tr>\n",
                            "        <td>California</td>\n",
                            "        <td>South America</td>\n",
                            "        <td>89</td>\n",
                            "        <td>0.20870462433167622</td>\n",
                            "    </tr>\n",
                            "    <tr>\n",
                            "        <td>California</td>\n",
                            "        <td>EU</td>\n",
                            "        <td>75</td>\n",
                            "        <td>0.17587468342556983</td>\n",
                            "    </tr>\n",
                            "    <tr>\n",
                            "        <td>Paris</td>\n",
                            "        <td>South America</td>\n",
                            "        <td>66</td>\n",
                            "        <td>0.15476972141450143</td>\n",
                            "    </tr>\n",
                            "    <tr>\n",
                            "        <td>HongKong</td>\n",
                            "        <td>EU</td>\n",
                            "        <td>64</td>\n",
                            "        <td>0.15007972985648627</td>\n",
                            "    </tr>\n",
                            "    <tr>\n",
                            "        <td>California</td>\n",
                            "        <td>Africa</td>\n",
                            "        <td>63</td>\n",
                            "        <td>0.14773473407747867</td>\n",
                            "    </tr>\n",
                            "    <tr>\n",
                            "        <td>HongKong</td>\n",
                            "        <td>South America</td>\n",
                            "        <td>29</td>\n",
                            "        <td>0.06800487759122034</td>\n",
                            "    </tr>\n",
                            "    <tr>\n",
                            "        <td>California</td>\n",
                            "        <td>None</td>\n",
                            "        <td>7</td>\n",
                            "        <td>0.016414970453053183</td>\n",
                            "    </tr>\n",
                            "    <tr>\n",
                            "        <td>HongKong</td>\n",
                            "        <td>None</td>\n",
                            "        <td>2</td>\n",
                            "        <td>0.004689991558015196</td>\n",
                            "    </tr>\n",
                            "</table>"
                        ]
                    },
                    "metadata": {},
                    "execution_count": 136
                }
            ],
            "metadata": {}
        },
        {
            "cell_type": "code",
            "execution_count": null,
            "source": [],
            "outputs": [],
            "metadata": {}
        }
    ],
    "metadata": {
        "orig_nbformat": 4,
        "language_info": {
            "name": "python",
            "version": "3.7.4",
            "mimetype": "text/x-python",
            "codemirror_mode": {
                "name": "ipython",
                "version": 3
            },
            "pygments_lexer": "ipython3",
            "nbconvert_exporter": "python",
            "file_extension": ".py"
        },
        "kernelspec": {
            "name": "python3",
            "display_name": "Python 3.7.4 64-bit ('base': conda)"
        },
        "interpreter": {
            "hash": "9387e9e37a0af8fff0fcbade4737076ebc87d0c8fec44545ee3d2fd05cdc73df"
        }
    },
    "nbformat": 4,
    "nbformat_minor": 2
}